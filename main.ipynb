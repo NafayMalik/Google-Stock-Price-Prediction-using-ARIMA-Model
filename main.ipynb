{
 "cells": [
  {
   "cell_type": "markdown",
   "id": "445d6a12-8e8e-439e-b16e-af745b8ecf7c",
   "metadata": {},
   "source": [
    "<h3>Importing Libraries</h3>\n",
    "<p>In this cell, the necessary Python libraries such as pandas, yfinance, and datetime are imported for data handling and time series analysis.</p>"
   ]
  },
  {
   "cell_type": "code",
   "execution_count": null,
   "id": "8ad549f0-cc52-4b15-928e-f4d31bb2c748",
   "metadata": {},
   "outputs": [],
   "source": [
    "import pandas as pd\n",
    "import yfinance as yf\n",
    "import datetime\n",
    "from datetime import date, timedelta"
   ]
  },
  {
   "cell_type": "markdown",
   "id": "7b3729f5-7747-47c3-9eeb-6342dff9f9a8",
   "metadata": {},
   "source": [
    "<h3>Data Collection</h3>\n",
    "<p>This cell retrieves historical stock market data for Google (GOOG) from Yahoo Finance API. It defines the date range for data collection and selects relevant columns.</p>"
   ]
  },
  {
   "cell_type": "code",
   "execution_count": null,
   "id": "c60d5f17-f78d-4396-a125-a4829a22d1e5",
   "metadata": {},
   "outputs": [],
   "source": [
    "today = date.today()\n",
    "end_date = today.strftime(\"%Y-%m-%d\")\n",
    "\n",
    "d1 = date.today() - timedelta(days=365)\n",
    "start_date = d1.strftime(\"%Y-%m-%d\")\n",
    "\n",
    "data = yf.download('GOOG', \n",
    "                      start=start_date, \n",
    "                      end=end_date, \n",
    "                      progress=False)\n",
    "data[\"Date\"] = data.index\n",
    "df = data[[\"Date\", \"Open\", \"High\", \"Low\", \"Close\", \"Adj Close\", \"Volume\"]]\n",
    "df.reset_index(drop=True, inplace=True)\n",
    "print(df.tail())"
   ]
  },
  {
   "cell_type": "markdown",
   "id": "28f8f2f9-c403-4347-9f98-8410eb2a0f7f",
   "metadata": {},
   "source": [
    "<h3>Data Preprocessing</h3>\n",
    "<p>Here, the data is further preprocessed. It narrows down the dataset to include only the 'Date' and 'Close' columns. The code also resets the index for data consistency.</p>"
   ]
  },
  {
   "cell_type": "code",
   "execution_count": null,
   "id": "c4ccd81a-5611-4022-b612-f2f916c16fb9",
   "metadata": {},
   "outputs": [],
   "source": [
    "df = df[[\"Date\", \"Close\"]]\n",
    "print(df.head())"
   ]
  },
  {
   "cell_type": "markdown",
   "id": "15038185-ed82-459f-a85c-6fcd25715b0d",
   "metadata": {},
   "source": [
    "<h3>Data Visualization</h3>\n",
    "<p>This cell uses the matplotlib library to create a time series plot of the closing prices of Google's stock. The 'fivethirtyeight' style is applied for visualization.</p>"
   ]
  },
  {
   "cell_type": "code",
   "execution_count": null,
   "id": "273caf2f-8ff7-4209-b7bb-60631d2296c0",
   "metadata": {},
   "outputs": [],
   "source": [
    "import matplotlib.pyplot as plt\n",
    "plt.style.use('fivethirtyeight')\n",
    "plt.figure(figsize=(15, 10))\n",
    "plt.plot(df[\"Date\"], df[\"Close\"])"
   ]
  },
  {
   "cell_type": "markdown",
   "id": "7315a657-f13d-4bb6-b8e2-bac5bd226861",
   "metadata": {},
   "source": [
    "<h3>Time Series Decomposition</h3>\n",
    "<p>The statsmodels library is utilized for seasonal decomposition. This cell separates the trend, seasonality, and residual components of the stock prices.</p>"
   ]
  },
  {
   "cell_type": "code",
   "execution_count": null,
   "id": "74f02e9d-18b1-4d07-84c8-065b154ee78c",
   "metadata": {},
   "outputs": [],
   "source": [
    "from statsmodels.tsa.seasonal import seasonal_decompose\n",
    "result = seasonal_decompose(df[\"Close\"], \n",
    "                            model='multiplicative', period = 30)\n",
    "fig = plt.figure()  \n",
    "fig = result.plot()  \n",
    "fig.set_size_inches(15, 10)"
   ]
  },
  {
   "cell_type": "markdown",
   "id": "f027fe19-01d6-4608-a8c0-3fcf484ca8e1",
   "metadata": {},
   "source": [
    "<h3>AutoCorrelation Plot</h3>\n",
    "<p>AutoCorrelation is visualized using the pandas library, helping identify potential time series patterns.</p>"
   ]
  },
  {
   "cell_type": "code",
   "execution_count": null,
   "id": "d68e0d82-fbb3-439c-9f2d-b2adcbe412d9",
   "metadata": {},
   "outputs": [],
   "source": [
    "pd.plotting.autocorrelation_plot(df[\"Close\"])"
   ]
  },
  {
   "cell_type": "markdown",
   "id": "3f6f7e7e-d0e3-4624-9e62-4c3d09b60b75",
   "metadata": {},
   "source": [
    "<h3>Partial AutoCorrelation Plot</h3>\n",
    "<p>This cell generates the Partial AutoCorrelation Function (PACF) plot to aid in parameter selection for the ARIMA model.</p>"
   ]
  },
  {
   "cell_type": "code",
   "execution_count": null,
   "id": "567d0b43-be42-4a69-9a65-dfa5f957c9bd",
   "metadata": {},
   "outputs": [],
   "source": [
    "from statsmodels.graphics.tsaplots import plot_pacf\n",
    "plot_pacf(df[\"Close\"], lags = 100)"
   ]
  },
  {
   "cell_type": "markdown",
   "id": "6118bb57-906a-4643-a18d-7d82df8ab776",
   "metadata": {},
   "source": [
    "<h3>ARIMA Modeling</h3>\n",
    "<p>The ARIMA (AutoRegressive Integrated Moving Average) model is constructed here. It fits the model to the 'Close' prices with specified parameters and prints a summary of the model.</p>"
   ]
  },
  {
   "cell_type": "code",
   "execution_count": null,
   "id": "87a26d2c-83ea-4e93-bb77-7139d8346605",
   "metadata": {},
   "outputs": [],
   "source": [
    "p, d, q = 5, 1, 2\n",
    "from statsmodels.tsa.arima.model import ARIMA\n",
    "model = ARIMA(df[\"Close\"], order=(p,d,q))  \n",
    "fitted = model.fit()  \n",
    "print(fitted.summary())"
   ]
  },
  {
   "cell_type": "markdown",
   "id": "ffa335e9-2e0a-46ea-a147-4a3698f44a15",
   "metadata": {},
   "source": [
    "<h3>ARIMA Predictions</h3>\n",
    "<p>This cell generates predictions using the ARIMA model and prints the results.</p>"
   ]
  },
  {
   "cell_type": "code",
   "execution_count": null,
   "id": "47a9c0eb-395e-443a-a2ed-ebdd5b86ef85",
   "metadata": {},
   "outputs": [],
   "source": [
    "predictions = fitted.predict()\n",
    "print(predictions)"
   ]
  },
  {
   "cell_type": "markdown",
   "id": "4c4b2451-7a5c-4e86-92bf-85f65edd173b",
   "metadata": {},
   "source": [
    "<h3>SARIMAX Predictions</h3>\n",
    "<p>Predictions for future stock prices are generated using the SARIMAX model.</p>"
   ]
  },
  {
   "cell_type": "code",
   "execution_count": null,
   "id": "551fccc2-6ecb-43c0-ac3a-f8bf4d59666c",
   "metadata": {},
   "outputs": [],
   "source": [
    "import statsmodels.api as sm\n",
    "model=sm.tsa.statespace.SARIMAX(data['Close'],\n",
    "                                order=(p, d, q),\n",
    "                                seasonal_order=(p, d, q, 12))\n",
    "model=model.fit()\n",
    "print(model.summary())"
   ]
  },
  {
   "cell_type": "markdown",
   "id": "91fbb5f6-8c12-4956-b3d1-dac567af5880",
   "metadata": {},
   "source": [
    "<h3>Data and Predictions Visualization</h3>\n",
    "<p>The cell plots the training data and the predictions on a single graph for visual comparison.</p>"
   ]
  },
  {
   "cell_type": "code",
   "execution_count": null,
   "id": "7751f86e-9acc-48a5-bfd5-b91fac87d373",
   "metadata": {},
   "outputs": [],
   "source": [
    "# Generate predictions using the SARIMAX model\n",
    "\n",
    "start_date = (df[\"Date\"].iloc[-1] + pd.Timedelta(days=1)).strftime(\"%Y-%m-%d\")\n",
    "date_range = pd.date_range(start=start_date, periods=100, freq=\"D\")\n",
    "predictions = model.predict(len(df), len(df) + 99)\n",
    "                            \n",
    "predictions.index = date_range\n",
    "print(predictions)"
   ]
  },
  {
   "cell_type": "code",
   "execution_count": null,
   "id": "2e1f865b-97a6-4639-9a21-ca98a4d043ea",
   "metadata": {},
   "outputs": [],
   "source": [
    "plt.figure(figsize=(20, 10))\n",
    "plt.plot(df[\"Date\"], df[\"Close\"])\n",
    "plt.plot(predictions)"
   ]
  }
 ],
 "metadata": {
  "kernelspec": {
   "display_name": "Python 3 (ipykernel)",
   "language": "python",
   "name": "python3"
  },
  "language_info": {
   "codemirror_mode": {
    "name": "ipython",
    "version": 3
   },
   "file_extension": ".py",
   "mimetype": "text/x-python",
   "name": "python",
   "nbconvert_exporter": "python",
   "pygments_lexer": "ipython3",
   "version": "3.11.5"
  }
 },
 "nbformat": 4,
 "nbformat_minor": 5
}
